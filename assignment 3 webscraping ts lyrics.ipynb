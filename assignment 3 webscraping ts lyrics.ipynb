{
 "cells": [
  {
   "cell_type": "markdown",
   "id": "bd76c7b8-167d-44bc-a505-df4938866933",
   "metadata": {},
   "source": [
    "Assignment 3 resubmission: Web scraping TS lyrics\n",
    "Natalie Voo Xin Ru\n",
    "S4228693\n",
    "\n",
    "In this assignment I am webscraping data from folklore (2020), an album released by singer-songwriter Taylor Swift. This was an album that\n",
    "has shaped pop culture and has even won Album of the Year at the Grammys, the most prestigious award any artist can receive in their career.\n",
    "\n",
    "Simple research questions:\n",
    "- Who wrote the most songs in the album?\n",
    "- Who were her main collaborators?\n",
    "\n",
    "Feedback for first submission:\n",
    "Submission Feedback\n",
    "Overall Feedback\n",
    "- The contents of the Readme should be expanded upon. Describe your corpus in detail, e.g., what were the selection criteria? The files in the repository should be documented here, as well as the structure and contents of the CSV file. The usage rights should be explored and explained in more detail to make sure there are no assumptions being made.\n",
    "- The CSV file is very brief, containing just one row. Relating to processing, the \"Title\" column should only contain the title, e.g., 'cardigan', not '\"cardigan\" lyrics', the scraped text should be cleaned and should not be in a list. The tracklist is incomplete.\n",
    "- The notebook is fine. re library is not imported, but you use it in the code, it is not clear how it can work. It is also unclear why the tracklist is partially hardcoded towards the end of the notebook when it was already scraped a few cells above.\n",
    "- The repository is well-structured.\n",
    "- The results of the scraping task are very brief with only one row and incompletely processed columns in the CSV. A more in-depth development of this assignment could include all the songs in the tracklist that you have scraped. Consider the artist page (https://www.azlyrics.com/t/taylorswift.html). You could access the individual tracks by scraping hyperlinks.\n",
    "\n",
    "- Take into account the feedback you've got.\n",
    "- Add a very small analysis part to your notebook, to answer a simple question about the data or show an interesting visualization (in that case, you'd have to explain what is interesting about it).\n",
    "\n",
    "Step 1: Importing packages "
   ]
  },
  {
   "cell_type": "code",
   "execution_count": 118,
   "id": "2999e806-a939-4aad-8994-6f6c224744d2",
   "metadata": {},
   "outputs": [],
   "source": [
    "\n",
    "# Import os to upload documents and metadata\n",
    "import os\n",
    "\n",
    "# Import pandas DataFrame packages\n",
    "import pandas as pd\n",
    "pd.options.mode.chained_assignment = None  # default='warn'\n",
    "\n",
    "# Import graphing package\n",
    "import plotly.express as px\n",
    "\n",
    "import requests\n",
    "from bs4 import BeautifulSoup\n",
    "import csv\n",
    "import time"
   ]
  },
  {
   "cell_type": "markdown",
   "id": "d9c604e0-a0b1-4b41-8672-76bf0439b0fe",
   "metadata": {},
   "source": [
    "Step 2: Web scrape the tracklist from artist page"
   ]
  },
  {
   "cell_type": "code",
   "execution_count": 39,
   "id": "67be16a2-f87f-421f-be6e-a00ca725a96b",
   "metadata": {},
   "outputs": [
    {
     "name": "stdout",
     "output_type": "stream",
     "text": [
      "Tracklist for 'Folklore':\n",
      "1: the 1\n",
      "2: cardigan\n",
      "3: the last great american dynasty\n",
      "4: exile\n",
      "5: my tears ricochet\n",
      "6: mirrorball\n",
      "7: seven\n",
      "8: august\n",
      "9: this is me trying\n",
      "10: illicit affairs\n",
      "11: invisible string\n",
      "12: mad woman\n",
      "13: epiphany\n",
      "14: betty\n",
      "15: peace\n",
      "16: hoax\n",
      "17: the lakes\n"
     ]
    }
   ],
   "source": [
    "\n",
    "# URL for Taylor Swift's artist page\n",
    "artist_url = \"https://www.azlyrics.com/t/taylorswift.html\"\n",
    "\n",
    "# Fetch the artist page\n",
    "response = requests.get(artist_url)\n",
    "response.raise_for_status()  # Raise an error for bad responses\n",
    "soup = BeautifulSoup(response.text, 'html.parser')\n",
    "\n",
    "# Initialize a dictionary to store the tracklist\n",
    "tracklist = {}\n",
    "\n",
    "# Find the album section for \"Folklore\" using the specific div ID\n",
    "album_div = soup.find('div', id='85703')\n",
    "\n",
    "if album_div:\n",
    "    # Get the next sibling div that contains the tracklist\n",
    "    current_div = album_div.find_next_sibling()\n",
    "    \n",
    "    # Loop through each track in the tracklist\n",
    "    while current_div and current_div.name == 'div':\n",
    "        if 'listalbum-item' in current_div.get('class', []):\n",
    "            track_name = current_div.find('a').get_text()  # Track name\n",
    "            tracklist[len(tracklist) + 1] = track_name  # Use track number as key (1-based index)\n",
    "        current_div = current_div.find_next_sibling()  # Move to the next sibling\n",
    "\n",
    "# Print the tracklist dictionary\n",
    "print(\"Tracklist for 'Folklore':\")\n",
    "for track_number, track_name in tracklist.items():\n",
    "    print(f\"{track_number}: {track_name}\")"
   ]
  },
  {
   "cell_type": "markdown",
   "id": "8b4184ce-1443-4316-a014-2a47007d84f0",
   "metadata": {},
   "source": [
    "Step 3: Save the tracklist into a csv file"
   ]
  },
  {
   "cell_type": "code",
   "execution_count": 41,
   "id": "c1cccca7-5b9d-453f-afc2-554a227d871e",
   "metadata": {},
   "outputs": [
    {
     "name": "stdout",
     "output_type": "stream",
     "text": [
      "Tracklist for 'Folklore' has been saved to folklore_tracklist.csv.\n"
     ]
    }
   ],
   "source": [
    "\n",
    "\n",
    "# Convert the tracklist dictionary to a DataFrame\n",
    "tracklist_df = pd.DataFrame(list(tracklist.items()), columns=['Track Number', 'Track Name'])\n",
    "\n",
    "# Save the tracklist to a CSV file\n",
    "csv_file_name = \"folklore_tracklist.csv\"\n",
    "tracklist_df.to_csv(csv_file_name, index=False)\n",
    "\n",
    "print(f\"Tracklist for 'Folklore' has been saved to {csv_file_name}.\")"
   ]
  },
  {
   "cell_type": "markdown",
   "id": "81d16d0f-578f-446d-bb60-f2e37e2b9837",
   "metadata": {},
   "source": [
    "Step 4: Webscrape lyrics and add it to a new column in the csv file"
   ]
  },
  {
   "cell_type": "code",
   "execution_count": 59,
   "id": "d4ea482f-5b78-49bd-a4d9-08eb6aec5a16",
   "metadata": {},
   "outputs": [
    {
     "name": "stdout",
     "output_type": "stream",
     "text": [
      "Updated DataFrame with Lyrics:\n",
      "    Track Number                       Track Name  \\\n",
      "0              1                            the 1   \n",
      "1              2                         cardigan   \n",
      "2              3  the last great american dynasty   \n",
      "3              4                            exile   \n",
      "4              5                my tears ricochet   \n",
      "5              6                       mirrorball   \n",
      "6              7                            seven   \n",
      "7              8                           august   \n",
      "8              9                this is me trying   \n",
      "9             10                  illicit affairs   \n",
      "10            11                 invisible string   \n",
      "11            12                        mad woman   \n",
      "12            13                         epiphany   \n",
      "13            14                            betty   \n",
      "14            15                            peace   \n",
      "15            16                             hoax   \n",
      "16            17                        the lakes   \n",
      "\n",
      "                                               Lyrics  \n",
      "0   I'm doing good, I'm on some new shit \\nBeen sa...  \n",
      "1   Vintage tee, brand new phone \\nHigh heels on c...  \n",
      "2   Rebekah rode up on the afternoon train, it was...  \n",
      "3   [Justin Vernon:] \\nI can see you standin', hon...  \n",
      "4   We gather here \\nWe line up weeping in a sunli...  \n",
      "5   I want you to know \\nI'm a mirrorball \\nI'll s...  \n",
      "6   Please picture me \\nIn the trees \\nI hit my pe...  \n",
      "7   Salt air \\nAnd the rust on your door \\nI never...  \n",
      "8                                    Lyrics not found  \n",
      "9                                    Lyrics not found  \n",
      "10                                   Lyrics not found  \n",
      "11                                   Lyrics not found  \n",
      "12                                   Lyrics not found  \n",
      "13                                   Lyrics not found  \n",
      "14                                   Lyrics not found  \n",
      "15                                   Lyrics not found  \n",
      "16                                   Lyrics not found  \n",
      "Lyrics have been scraped and added to the DataFrame.\n"
     ]
    }
   ],
   "source": [
    "\n",
    "def scrape_lyrics(url):\n",
    "    response = requests.get(url)\n",
    "    soup = BeautifulSoup(response.text, 'html.parser')\n",
    "    \n",
    "    # Locate the lyrics in the HTML structure\n",
    "    lyrics_tag = soup.find_all(\"div\", attrs={\"class\": None, \"id\": None})\n",
    "    \n",
    "    lyrics = []\n",
    "    for content in lyrics_tag:\n",
    "        line = content.get_text(separator=\" \")\n",
    "        lyrics.append(line.strip())\n",
    "    \n",
    "    # Join the lyrics into a single string\n",
    "    return \"\\n\".join(lyrics) if lyrics else \"Lyrics not found\"\n",
    "\n",
    "# Load the existing CSV file into a DataFrame\n",
    "csv_file_path = 'folklore_tracklist.csv'  \n",
    "df = pd.read_csv(csv_file_path)\n",
    "\n",
    "# Create a new column for lyrics\n",
    "df['Lyrics'] = ''\n",
    "\n",
    "# Loop through each song name and construct the URL\n",
    "for index, row in df.iterrows():\n",
    "    track_name = row['Track Name']  \n",
    "    # Construct the URL by replacing spaces with underscores and converting to lowercase\n",
    "    track_name_url = track_name.lower().replace(' ', '')\n",
    "    song_url = f\"https://www.azlyrics.com/lyrics/taylorswift/{track_name_url}.html\"\n",
    "    \n",
    "    # Scrape the lyrics\n",
    "    lyrics = scrape_lyrics(song_url)\n",
    "    df.at[index, 'Lyrics'] = lyrics  # Add lyrics to the new column\n",
    "\n",
    "print(\"Updated DataFrame with Lyrics:\")\n",
    "print(df)\n",
    "\n",
    "# Save the updated DataFrame back to the CSV file\n",
    "df.to_csv(csv_file_path, index=False)\n",
    "\n",
    "print(\"Lyrics have been scraped and added to the DataFrame.\")"
   ]
  },
  {
   "cell_type": "markdown",
   "id": "0321cc1b-dfab-4bce-bdf9-5765b999cd6e",
   "metadata": {},
   "source": [
    "Step 5: I have webscrapped AZ lyrics a bit too much so now it thinks I am a robot, so at this moment in time, I cannot extract songwriting\n",
    "credits from AZ lyrics, so I will do this in another website instead, namely the fandom's wikipedia page for Folklore \n",
    "\n",
    "Here I am webscraping the songwriting credits and putting it into a dictionary"
   ]
  },
  {
   "cell_type": "code",
   "execution_count": 81,
   "id": "8dcbb56c-101b-474e-a989-3a813f13a69e",
   "metadata": {},
   "outputs": [
    {
     "name": "stdout",
     "output_type": "stream",
     "text": [
      "Songwriters Dictionary for Tracks 1-17:\n",
      "Track 1: Taylor Swift, Aaron Dessner\n",
      "Track 2: Swift, Dessner\n",
      "Track 3: Swift, Dessner\n",
      "Track 4: Swift, William Bowery, Justin Vernon\n",
      "Track 5: Swift\n",
      "Track 6: Swift, Antonoff\n",
      "Track 7: Swift, Dessner\n",
      "Track 8: Swift, Antonoff\n",
      "Track 9: Swift, Antonoff\n",
      "Track 10: Swift, Antonoff\n",
      "Track 11: Swift, Dessner\n",
      "Track 12: Swift, Dessner\n",
      "Track 13: Swift, Dessner\n",
      "Track 14: Swift, Bowery\n",
      "Track 15: Swift, Dessner\n",
      "Track 16: Swift, Dessner\n",
      "Track 17: Swift, Antonoff\n"
     ]
    }
   ],
   "source": [
    "\n",
    "# URL for the Wikipedia page of \"Folklore\"\n",
    "wiki_url = \"https://taylorswift.fandom.com/wiki/Folklore\"\n",
    "\n",
    "# Fetch the Wikipedia page\n",
    "response = requests.get(wiki_url)\n",
    "response.raise_for_status()  # Raise an error for bad responses\n",
    "soup = BeautifulSoup(response.text, 'html.parser')\n",
    "\n",
    "# Find all track listing tables\n",
    "track_tables = soup.find_all('table', class_='tracklist')\n",
    "\n",
    "# Initialize a dictionary to store songwriters\n",
    "songwriters_dict = {}\n",
    "\n",
    "# Loop through each track listing table\n",
    "for table in track_tables:\n",
    "    # Extract the rows from the table\n",
    "    rows = table.find_all('tr')\n",
    "    \n",
    "    # Loop through each row in the table, skipping the header rows\n",
    "    for row in rows[1:]:  # Skip the header row\n",
    "        cells = row.find_all('td')\n",
    "        if cells and len(cells) > 2:  # Ensure the row has enough cells\n",
    "            # Extract the songwriters from the \"Writer(s)\" column\n",
    "            writer_cell = cells[2]  # The \"Writer(s)\" column is the third cell\n",
    "            writers = writer_cell.get_text(separator=\", \").strip()  # Get the text and format it\n",
    "            \n",
    "            # Split the writers by both delimiters and clean up whitespace\n",
    "            writer_list = [writer.strip() for writer in writers.replace('•', ',').split(',') if writer.strip()]\n",
    "            \n",
    "            # Store in the dictionary with track number as key\n",
    "            track_number = len(songwriters_dict) + 1  # Assuming tracks are numbered sequentially\n",
    "            \n",
    "            # Only add the first 17 tracks\n",
    "            if track_number <= 17:\n",
    "                songwriters_dict[track_number] = writer_list\n",
    "\n",
    "# Print the dictionary of songwriters\n",
    "print(\"Songwriters Dictionary for Tracks 1-17:\")\n",
    "for track, writers in songwriters_dict.items():\n",
    "    print(f\"Track {track}: {', '.join(writers)}\")"
   ]
  },
  {
   "cell_type": "code",
   "execution_count": 103,
   "id": "92874248-1178-4710-8566-b5d33c8f769e",
   "metadata": {},
   "outputs": [
    {
     "data": {
      "text/plain": [
       "{1: ['Taylor Swift', 'Aaron Dessner'],\n",
       " 2: ['Swift', 'Dessner'],\n",
       " 3: ['Swift', 'Dessner'],\n",
       " 4: ['Swift', 'William Bowery', 'Justin Vernon'],\n",
       " 5: ['Swift'],\n",
       " 6: ['Swift', 'Antonoff'],\n",
       " 7: ['Swift', 'Dessner'],\n",
       " 8: ['Swift', 'Antonoff'],\n",
       " 9: ['Swift', 'Antonoff'],\n",
       " 10: ['Swift', 'Antonoff'],\n",
       " 11: ['Swift', 'Dessner'],\n",
       " 12: ['Swift', 'Dessner'],\n",
       " 13: ['Swift', 'Dessner'],\n",
       " 14: ['Swift', 'Bowery'],\n",
       " 15: ['Swift', 'Dessner'],\n",
       " 16: ['Swift', 'Dessner'],\n",
       " 17: ['Swift', 'Antonoff']}"
      ]
     },
     "execution_count": 103,
     "metadata": {},
     "output_type": "execute_result"
    }
   ],
   "source": [
    "songwriters_dict"
   ]
  },
  {
   "cell_type": "markdown",
   "id": "91fc8b49-8436-4ed3-a147-fb60e0c79e2f",
   "metadata": {},
   "source": [
    "Step 6: For some reason, the names are not equal, so I will manually change it to their last names so its a little easier for the\n",
    "visualisation later on, and then I am adding a new songwriting credits column to the CSV file."
   ]
  },
  {
   "cell_type": "code",
   "execution_count": 111,
   "id": "ec8db8c3-8544-4cc1-a6b9-5a93d58c3b8a",
   "metadata": {},
   "outputs": [
    {
     "name": "stdout",
     "output_type": "stream",
     "text": [
      "Songwriting credits added to the CSV file.\n"
     ]
    }
   ],
   "source": [
    "\n",
    "# Step 1: Read the existing CSV file into a DataFrame\n",
    "csv_file_path = 'folklore_tracklist.csv'\n",
    "df = pd.read_csv(csv_file_path)\n",
    "\n",
    "# Step 2: Define the songwriting credits dictionary\n",
    "songwriters_dict = {\n",
    "    1: ['Swift', 'Dessner'],\n",
    "    2: ['Swift', 'Dessner'],\n",
    "    3: ['Swift', 'Dessner'],\n",
    "    4: ['Swift', 'Bowery', 'Vernon'],\n",
    "    5: ['Swift'],\n",
    "    6: ['Swift', 'Antonoff'],\n",
    "    7: ['Swift', 'Dessner'],\n",
    "    8: ['Swift', 'Antonoff'],\n",
    "    9: ['Swift', 'Antonoff'],\n",
    "    10: ['Swift', 'Antonoff'],\n",
    "    11: ['Swift', 'Dessner'],\n",
    "    12: ['Swift', 'Dessner'],\n",
    "    13: ['Swift', 'Dessner'],\n",
    "    14: ['Swift', 'Bowery'],\n",
    "    15: ['Swift', 'Dessner'],\n",
    "    16: ['Swift', 'Dessner'],\n",
    "    17: ['Swift', 'Antonoff']\n",
    "}\n",
    "\n",
    "# Step 3: Create a new column for the songwriting credits\n",
    "# Convert the list of songwriters to a string for each track\n",
    "df['Songwriters'] = df.index.map(lambda x: ', '.join(songwriters_dict.get(x + 1, [])))\n",
    "\n",
    "# Step 4: Write the updated DataFrame back to the CSV file\n",
    "df.to_csv(csv_file_path, index=False)\n"
   ]
  },
  {
   "cell_type": "markdown",
   "id": "446328c3-531d-4b64-8a4f-fa5bda01ab7a",
   "metadata": {},
   "source": [
    "Step 7: Now I am trying to visualise how many songwriters there are in folklore, and how many tracks of the album did each songwriter\n",
    "contribute to."
   ]
  },
  {
   "cell_type": "code",
   "execution_count": 115,
   "id": "07a12e12-39e5-4eb4-b1e8-4038c4b51a33",
   "metadata": {},
   "outputs": [
    {
     "data": {
      "image/png": "[encoded data removed]",
      "text/plain": [
       "<Figure size 1000x600 with 1 Axes>"
      ]
     },
     "metadata": {},
     "output_type": "display_data"
    }
   ],
   "source": [
    "\n",
    "import matplotlib.pyplot as plt\n",
    "\n",
    "# Define the songwriting credits dictionary\n",
    "songwriters_dict = {\n",
    "    1: ['Swift', 'Dessner'],\n",
    "    2: ['Swift', 'Dessner'],\n",
    "    3: ['Swift', 'Dessner'],\n",
    "    4: ['Swift', 'Bowery', 'Vernon'],\n",
    "    5: ['Swift'],\n",
    "    6: ['Swift', 'Antonoff'],\n",
    "    7: ['Swift', 'Dessner'],\n",
    "    8: ['Swift', 'Antonoff'],\n",
    "    9: ['Swift', 'Antonoff'],\n",
    "    10: ['Swift', 'Antonoff'],\n",
    "    11: ['Swift', 'Dessner'],\n",
    "    12: ['Swift', 'Dessner'],\n",
    "    13: ['Swift', 'Dessner'],\n",
    "    14: ['Swift', 'Bowery'],\n",
    "    15: ['Swift', 'Dessner'],\n",
    "    16: ['Swift', 'Dessner'],\n",
    "    17: ['Swift', 'Antonoff']\n",
    "}\n",
    "\n",
    "# Initialize a dictionary to count credits\n",
    "credit_counts = {\n",
    "    'Swift': 0,\n",
    "    'Dessner': 0,\n",
    "    'Antonoff': 0,\n",
    "    'Vernon': 0,\n",
    "    'Bowery': 0\n",
    "}\n",
    "\n",
    "# Count the writing credits\n",
    "for songwriters in songwriters_dict.values():\n",
    "    for writer in songwriters:\n",
    "        if writer in credit_counts:\n",
    "            credit_counts[writer] += 1\n",
    "\n",
    "# Prepare data for plotting\n",
    "names = list(credit_counts.keys())\n",
    "counts = list(credit_counts.values())\n",
    "\n",
    "# Create a bar chart\n",
    "plt.figure(figsize=(10, 6))\n",
    "plt.bar(names, counts, color=['blue', 'orange', 'green', 'red', 'purple'])\n",
    "plt.title('Writing Credits on Folklore')\n",
    "plt.xlabel('Songwriters')\n",
    "plt.ylabel('Number of Writing Credits')\n",
    "plt.xticks(rotation=45)\n",
    "plt.grid(axis='y')\n",
    "\n",
    "# Show the plot\n",
    "plt.tight_layout()\n",
    "plt.show()"
   ]
  },
  {
   "cell_type": "markdown",
   "id": "b13d167f-6490-46b4-b639-f5d0bc8b7ebf",
   "metadata": {},
   "source": [
    "Results\n",
    "\n",
    "Who wrote the most songs in the album?\n",
    "As shown clearly in the graph, Swift has wrote all 17 tracks in her album folklore, even one song written all by herself. \n",
    "\n",
    "Who were her main collaborators?\n",
    "Her main collaborators were Dessner, with 9 tracks to his name and Antonoff, with 5 tracks to his name.\n",
    "\n",
    "This is interesting as most hit albums tend to have an average of 4.5 songwriters on each song\n",
    "(https://www.bbc.com/news/entertainment-arts-39934986), but Swift has a maximum of 3 songwriters in a song in \n",
    "this album, and mainly only collaborates with either Dessner or Antonoff. "
   ]
  }
 ],
 "metadata": {
  "kernelspec": {
   "display_name": "Python 3 (ipykernel)",
   "language": "python",
   "name": "python3"
  },
  "language_info": {
   "codemirror_mode": {
    "name": "ipython",
    "version": 3
   },
   "file_extension": ".py",
   "mimetype": "text/x-python",
   "name": "python",
   "nbconvert_exporter": "python",
   "pygments_lexer": "ipython3",
   "version": "3.12.4"
  }
 },
 "nbformat": 4,
 "nbformat_minor": 5
}
